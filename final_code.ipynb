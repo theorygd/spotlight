{
 "cells": [
  {
   "cell_type": "markdown",
   "metadata": {},
   "source": [
    "# Import Basic Libraries"
   ]
  },
  {
   "cell_type": "code",
   "execution_count": 2,
   "metadata": {},
   "outputs": [],
   "source": [
    "import networkx as nx\n",
    "from matplotlib import pyplot as plt\n",
    "import numpy as np\n",
    "from scipy.stats import poisson, expon\n",
    "from tqdm import tqdm\n",
    "import random\n",
    "\n",
    "%matplotlib inline"
   ]
  },
  {
   "cell_type": "code",
   "execution_count": 3,
   "metadata": {},
   "outputs": [],
   "source": [
    "graph = nx.read_gpickle(\"graph.pkl\")"
   ]
  },
  {
   "cell_type": "markdown",
   "metadata": {},
   "source": [
    "# Basic Properties of the Network"
   ]
  },
  {
   "cell_type": "code",
   "execution_count": 6,
   "metadata": {},
   "outputs": [
    {
     "name": "stdout",
     "output_type": "stream",
     "text": [
      "Num nodes: 10397, Num edges: 15823\n",
      "Num connected components: 2\n",
      "Num nodes in component: 10390\n",
      "Num nodes in component: 7\n"
     ]
    }
   ],
   "source": [
    "# number of nodes and edges\n",
    "n, m = graph.number_of_nodes(), graph.number_of_edges()\n",
    "print(f\"Num nodes: {n}, Num edges: {m}\")\n",
    "\n",
    "# connected components\n",
    "connected_components = nx.connected_components(graph)\n",
    "subgraphs = [graph.subgraph(c) for c in connected_components]\n",
    "print(f\"Num connected components: {len(subgraphs)}\")\n",
    "for subgraph in subgraphs:\n",
    "    num_nodes = subgraph.number_of_nodes()\n",
    "    print(f\"Num nodes in component: {num_nodes}\")\n"
   ]
  },
  {
   "cell_type": "code",
   "execution_count": 9,
   "metadata": {},
   "outputs": [],
   "source": [
    "# largest connected component\n",
    "large_subgraph = max(subgraphs, key=lambda x: x.number_of_nodes())\n",
    "small_subgraph = min(subgraphs, key=lambda x: x.number_of_nodes())\n",
    "# TODO: diameter\n",
    "# diameter = nx.diameter(largest_subgraph)\n",
    "# print(f\"Diameter of largest connected component: {diameter}\")"
   ]
  },
  {
   "cell_type": "code",
   "execution_count": 13,
   "metadata": {},
   "outputs": [
    {
     "name": "stdout",
     "output_type": "stream",
     "text": [
      "Mean degree: 3.043762623833798, Mean degree squared: 12.39761469654708\n",
      "Max degree: 19\n"
     ]
    }
   ],
   "source": [
    "# mean degree\n",
    "mean_degree = np.mean(list(dict(graph.degree()).values()))\n",
    "mean_degree_square = np.mean([degree**2 for degree in dict(graph.degree()).values()])\n",
    "print(f\"Mean degree: {mean_degree}, Mean degree squared: {mean_degree_square}\")\n",
    "\n",
    "# max degree\n",
    "max_degree = max(dict(graph.degree()).values())\n",
    "print(f\"Max degree: {max_degree}\")"
   ]
  },
  {
   "cell_type": "code",
   "execution_count": 14,
   "metadata": {},
   "outputs": [
    {
     "data": {
      "image/png": "[encoded data removed]",
      "text/plain": [
       "<Figure size 432x288 with 1 Axes>"
      ]
     },
     "metadata": {
      "needs_background": "light"
     },
     "output_type": "display_data"
    }
   ],
   "source": [
    "# degree distribution\n",
    "def degree_distribution_plot(graph):\n",
    "    degrees = [graph.degree(node) for node in graph.nodes()]\n",
    "    plt.hist(degrees, bins=np.arange(0, 21), density=True)\n",
    "    plt.xlabel(\"Degree\")\n",
    "    plt.ylabel(\"Density\")\n",
    "    plt.title(\"Degree Distribution\")\n",
    "    plt.show()\n",
    "\n",
    "degree_distribution_plot(graph)"
   ]
  },
  {
   "cell_type": "code",
   "execution_count": 15,
   "metadata": {},
   "outputs": [
    {
     "name": "stdout",
     "output_type": "stream",
     "text": [
      "p in ER graph: 0.0002927820915576951\n"
     ]
    },
    {
     "data": {
      "image/png": "[encoded data removed]",
      "text/plain": [
       "<Figure size 432x288 with 1 Axes>"
      ]
     },
     "metadata": {
      "needs_background": "light"
     },
     "output_type": "display_data"
    }
   ],
   "source": [
    "# compare with Erdos-Renyi Graph\n",
    "p = mean_degree / (n-1)\n",
    "print(f\"p in ER graph: {p}\")\n",
    "\n",
    "ER_graph = nx.erdos_renyi_graph(n, p)\n",
    "degree_distribution_plot(ER_graph)"
   ]
  },
  {
   "cell_type": "code",
   "execution_count": 16,
   "metadata": {},
   "outputs": [
    {
     "name": "stdout",
     "output_type": "stream",
     "text": [
      "Clustering coefficient: 0.13668278073790174\n"
     ]
    }
   ],
   "source": [
    "# clustering coefficient\n",
    "clustering_coef = nx.average_clustering(graph)\n",
    "print(f\"Clustering coefficient: {clustering_coef}\")"
   ]
  },
  {
   "cell_type": "code",
   "execution_count": 19,
   "metadata": {},
   "outputs": [
    {
     "data": {
      "image/png": "[encoded data removed]",
      "text/plain": [
       "<Figure size 432x288 with 1 Axes>"
      ]
     },
     "metadata": {},
     "output_type": "display_data"
    }
   ],
   "source": [
    "# plot the smaller component\n",
    "pos = nx.spring_layout(small_subgraph, iterations=100)\n",
    "nx.draw(small_subgraph, pos, with_labels=False, node_size=100, font_size=8)\n",
    "plt.show()"
   ]
  },
  {
   "cell_type": "markdown",
   "metadata": {},
   "source": [
    "# Network Centrality"
   ]
  },
  {
   "cell_type": "code",
   "execution_count": 31,
   "metadata": {},
   "outputs": [],
   "source": [
    "def get_centrality(graph):\n",
    "    centrality_dict = {}\n",
    "    centrality_dict['degree'] = nx.degree_centrality(graph)\n",
    "    centrality_dict['closeness'] = nx.betweenness_centrality(graph, k=1000)\n",
    "    centrality_dict['pagerank'] = nx.pagerank(graph)\n",
    "    return centrality_dict"
   ]
  },
  {
   "cell_type": "code",
   "execution_count": 32,
   "metadata": {},
   "outputs": [],
   "source": [
    "centrality_dict = get_centrality(graph)"
   ]
  },
  {
   "cell_type": "code",
   "execution_count": 35,
   "metadata": {},
   "outputs": [
    {
     "name": "stdout",
     "output_type": "stream",
     "text": [
      "Measure: degree\n",
      "('北太平桥西', 0.0018276260100038477)\n",
      "('六里桥北里', 0.0018276260100038477)\n",
      "('十里河桥北', 0.0017314351673720662)\n",
      "('祁家豁子', 0.0017314351673720662)\n",
      "('马甸桥南', 0.001635244324740285)\n",
      "Measure: closeness\n",
      "('安贞桥西', 0.2543759234318632)\n",
      "('马甸桥东', 0.25215972313497736)\n",
      "('六里桥北里', 0.24900927905110767)\n",
      "('北太平桥西', 0.21710966221393307)\n",
      "('静安庄西', 0.2038844148119012)\n",
      "Measure: pagerank\n",
      "('六里桥北里', 0.00032836694117787524)\n",
      "('十里河桥北', 0.0003209063290672097)\n",
      "('北太平桥西', 0.0003177352798265052)\n",
      "('地铁经海路站', 0.00031718695957926924)\n",
      "('开发区交通服务中心', 0.0003164316402437036)\n"
     ]
    }
   ],
   "source": [
    "# get nodes with highest centrality score\n",
    "def get_top_k_nodes(centrality_dict, k):\n",
    "    top_k_nodes = {}\n",
    "    for key in centrality_dict:\n",
    "        top_k_nodes[key] = sorted(centrality_dict[key].items(), key=lambda x: x[1], reverse=True)[:k]\n",
    "    return top_k_nodes\n",
    "\n",
    "top_k_nodes = get_top_k_nodes(centrality_dict, k=5)\n",
    "for key in centrality_dict:\n",
    "    print(f\"Measure: {key}\")\n",
    "    for node in top_k_nodes[key]:\n",
    "        print(node)"
   ]
  },
  {
   "cell_type": "code",
   "execution_count": 40,
   "metadata": {},
   "outputs": [
    {
     "name": "stdout",
     "output_type": "stream",
     "text": [
      "Measure: degree\n",
      "0.0006733358984224703\n",
      "Measure: closeness\n",
      "0.0006318066881450264\n",
      "Measure: pagerank\n",
      "0.00016983677268245985\n"
     ]
    }
   ],
   "source": [
    "node = \"五道口\"\n",
    "for key in centrality_dict:\n",
    "    print(f\"Measure: {key}\")\n",
    "    print(f\"{centrality_dict[key][node]}\")"
   ]
  },
  {
   "cell_type": "markdown",
   "metadata": {},
   "source": [
    "# shortest path & small-world phenomenon"
   ]
  },
  {
   "cell_type": "code",
   "execution_count": 42,
   "metadata": {},
   "outputs": [
    {
     "name": "stdout",
     "output_type": "stream",
     "text": [
      "['五道口', '北京语言大学', '成府路口南', '北京航空航天大学', '蓟门桥南', '明光桥南', '西直门南', '阜成门北', '北京儿童医院', '南礼士路', '复兴门内', '西单路口东', '天安门西', '天安门东']\n",
      "14\n"
     ]
    }
   ],
   "source": [
    "source, target = \"五道口\", \"天安门东\"\n",
    "shortest_path = nx.shortest_path(graph, source=source, target=target)\n",
    "print(shortest_path)\n",
    "print(len(shortest_path))"
   ]
  },
  {
   "cell_type": "code",
   "execution_count": 52,
   "metadata": {},
   "outputs": [
    {
     "data": {
      "text/plain": [
       "29.097305611704687"
      ]
     },
     "execution_count": 52,
     "metadata": {},
     "output_type": "execute_result"
    }
   ],
   "source": [
    "# average distance between nodes\n",
    "num_nodes = 1000\n",
    "node_samples = random.sample(large_subgraph.nodes(), num_nodes)\n",
    "shortest_path_lengths = sum(l for u in node_samples for l in nx.single_source_shortest_path_length(large_subgraph, u).values())\n",
    "average_distance = shortest_path_lengths / (num_nodes * (large_subgraph.number_of_nodes()-1))\n",
    "average_distance"
   ]
  },
  {
   "cell_type": "markdown",
   "metadata": {},
   "source": [
    "# Robustness"
   ]
  },
  {
   "cell_type": "code",
   "execution_count": null,
   "metadata": {},
   "outputs": [],
   "source": [
    "# robustness: randomly remove nodes and see how the size of the largest connected component changes\n",
    "def random_node_deletion_experiment(G, num_iterations=10, end=1000, step=1):\n",
    "    results = []\n",
    "    for i in tqdm(range(1, end, step)):\n",
    "        max_connected_components = []\n",
    "        for _ in range(num_iterations):\n",
    "            H = G.copy()\n",
    "            nodes_to_remove = random.sample(H.nodes(), i)\n",
    "            H.remove_nodes_from(nodes_to_remove)\n",
    "            connected_components = list(nx.connected_components(H))\n",
    "            if connected_components:\n",
    "                max_connected_components.append(max(map(len, connected_components)))\n",
    "            else:\n",
    "                max_connected_components.append(0)\n",
    "        average_max_connected_component = sum(max_connected_components) / num_iterations\n",
    "        results.append(average_max_connected_component)\n",
    "    return results\n",
    "\n",
    "result = random_node_deletion_experiment(graph, num_iterations=5, end=8000, step=5)\n",
    "x = np.arange(1, 8000, 5)\n",
    "plt.plot(x, result)"
   ]
  },
  {
   "cell_type": "code",
   "execution_count": null,
   "metadata": {},
   "outputs": [],
   "source": [
    "def attack_sequential_deletion_experiment(graph, end=8000, step=1):\n",
    "    # delete nodes with highest degree sequentially\n",
    "    results = []\n",
    "    graph = graph.copy()\n",
    "    for _ in tqdm(range(1, end, step)):\n",
    "        nodes_to_remove = sorted(graph.nodes(), key=graph.degree, reverse=True)[:step]\n",
    "        graph.remove_nodes_from(nodes_to_remove)\n",
    "        connected_components = list(nx.connected_components(graph))\n",
    "        results.append(max(map(len, connected_components)))\n",
    "    return results\n",
    "\n",
    "result = attack_sequential_deletion_experiment(graph, end=8000, step=5)\n",
    "plt.plot(x, result)"
   ]
  },
  {
   "cell_type": "code",
   "execution_count": 61,
   "metadata": {},
   "outputs": [
    {
     "data": {
      "text/plain": [
       "0.6745979517130753"
      ]
     },
     "execution_count": 61,
     "metadata": {},
     "output_type": "execute_result"
    }
   ],
   "source": [
    "# Molly-Reed Criterion\n",
    "fc = 1 - 1.0 / (mean_degree_square / mean_degree - 1)\n",
    "fc"
   ]
  }
 ],
 "metadata": {
  "kernelspec": {
   "display_name": "summer",
   "language": "python",
   "name": "python3"
  },
  "language_info": {
   "codemirror_mode": {
    "name": "ipython",
    "version": 3
   },
   "file_extension": ".py",
   "mimetype": "text/x-python",
   "name": "python",
   "nbconvert_exporter": "python",
   "pygments_lexer": "ipython3",
   "version": "3.8.13"
  }
 },
 "nbformat": 4,
 "nbformat_minor": 2
}
